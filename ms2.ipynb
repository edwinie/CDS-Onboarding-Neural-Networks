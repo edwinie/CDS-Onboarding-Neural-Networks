{
 "cells": [
  {
   "cell_type": "code",
   "execution_count": 10,
   "metadata": {},
   "outputs": [],
   "source": [
    "# part 1a\n",
    "import pandas as pd\n",
    "def removenanrows(dataset):\n",
    "    dataset.dropna()"
   ]
  },
  {
   "cell_type": "code",
   "execution_count": 7,
   "metadata": {},
   "outputs": [],
   "source": [
    "# part 1b\n",
    "import numpy as np\n",
    "def addSummaryStatistic(dataset):\n",
    "    mean = dataset.mean()\n",
    "    dataset.fillna(mean, inplace = true)"
   ]
  },
  {
   "cell_type": "code",
   "execution_count": 11,
   "metadata": {},
   "outputs": [],
   "source": [
    "# part 1c\n",
    "def one_hot_encode(data, labels):\n",
    "    one_hot = pd.DataFrame(index=data.index)\n",
    "    for label in labels:\n",
    "        one_hot[label] = (data == label).astype(int)\n",
    "    return one_hot"
   ]
  },
  {
   "cell_type": "code",
   "execution_count": 13,
   "metadata": {},
   "outputs": [],
   "source": [
    "def testremovenanrows():\n",
    "    df1 = pd.DataFrame({\n",
    "        'A': [1,2,3], \n",
    "        'B': [4,5,6]})\n",
    "    cleaneddf1 = removenanrows(df1)\n",
    "    assertEquals(cleaneddr1, dr1)\n",
    "\n",
    "    df2 = pd.DataFrame({\n",
    "        'A': [1, np.nan, 3], \n",
    "        'B': [4,5,np.nan]})\n",
    "    cleaneddf2 = removenanrows(df2)\n",
    "    assertEquals(({'A': [1, 3], 'B': [4,5]}), cleaneddf2)\n",
    "\n",
    "    df3 = pd.DataFrame({\n",
    "        'A': [np.nan, np.nan, np.nan], \n",
    "        'B': [np.nan, np.nan, np.nan]})\n",
    "    cleaneddf3 = removenanrows(df3)\n",
    "    assertEquals(({'A': [], 'B': []}), cleaneddf3)\n",
    "\n",
    "    df4 = pd.DataFrame({\n",
    "    'A': [1, 2, np.nan],\n",
    "    'B': ['foo', np.nan, 'bar'],\n",
    "    'C': [np.nan, 3.14, 2.71]})\n",
    "    cleaneddf4 = removenanrows(df4)\n",
    "    assertEquals(({\n",
    "    'A': [1, 2],\n",
    "    'B': ['foo', 'bar'],\n",
    "    'C': [3.14, 2.71]}), cleaneddf4)\n",
    "\n",
    "    return (\"testremovenanrows passed\")"
   ]
  },
  {
   "cell_type": "code",
   "execution_count": null,
   "metadata": {},
   "outputs": [],
   "source": [
    "# trying to address the issue of the file not existing\n",
    "import os\n",
    "if os.path.exists('./Top_spotify_songs.csv'):\n",
    "    df = pd.read_csv('./Top_spotify_songs.csv')\n",
    "    print(\"df correctly set\")\n",
    "else:\n",
    "    print(\"Error: File not found. Make sure 'Top_spotify_songs.csv' is in the correct directory.\")"
   ]
  },
  {
   "cell_type": "code",
   "execution_count": null,
   "metadata": {},
   "outputs": [],
   "source": [
    "# part 1d \n",
    "df = pd.read_csv('./Top_spotify_songs.csv', low_memory=False) \n",
    "addSummaryStatistic(df)\n",
    "\n",
    "numerical_columns = [\"daily_rank\", \"daily_movement\", \"weekly_movement\", \"popularity\", \"duration\",\n",
    "    \"danceability\", \"energy\", \"key\", \"loudness\", \"mode\", \"speechiness\",\n",
    "    \"acousticness\", \"instrumentalness\", \"liveness\", \"valence\", \"tempo\", \"time_signature\"]\n",
    "\n",
    "numerical_stats = df[numerical_columns].describe().transpose()\n",
    "numerical_stats[\"median\"] = df[numerical_columns].median().values\n",
    "\n",
    "\n",
    "categorical_columns = [\"spotify_id\", \"name\", \"artists\", \"country\", \"snapshot_date\",\n",
    "    \"is_explicit\", \"album_name\", \"album_release_date\"]\n",
    "for col in categorical_columns:\n",
    "    unique_values = df[col].nunique()\n",
    "    value_counts = df[col].value_counts().to_dict()\n"
   ]
  },
  {
   "cell_type": "code",
   "execution_count": null,
   "metadata": {},
   "outputs": [],
   "source": [
    "# part 2a\n",
    "import matplotlib.pyplot as plt\n",
    "for col in numerical_columns:\n",
    "    ds[col].plot(kind='hist', bins = 30, alpha = 0.7) # plot histogram\n",
    "    plt.title('Histogram of Numerical Columns')\n",
    "    plt.xlabel(Numerical Column Names)\n",
    "    ply.ylabel('Frequency')\n",
    "    plt.savefig(Histrogram_of_Numerical_Columns.png)\n",
    "    plt.close()"
   ]
  },
  {
   "cell_type": "code",
   "execution_count": null,
   "metadata": {},
   "outputs": [],
   "source": [
    "# part 2b\n",
    "for col in categorial_columns:\n",
    "    plt.figure(figsize = (10,6))\n",
    "    value_counts = df[col].value_counts().nlargest(10) # get top 10 most frequent categories\n",
    "    value_counts.plot(kind = 'bar')\n",
    "    plt.title('Distribution of Categorical Columns')\n",
    "    plt.xlabel('col')\n",
    "    plt.ylabel('Count')\n",
    "    plt.savefig('categorical_columns_bar_chart.png')\n",
    "    plt.close()"
   ]
  },
  {
   "cell_type": "code",
   "execution_count": null,
   "metadata": {},
   "outputs": [],
   "source": [
    "# part 2c\n",
    "import seaborn as sns\n",
    "pairs = [(\"country\", \"popularity\"), (\"is_explicit\", \"danceability\"), (\"album_name\", \"tempo\")]\n",
    "for catcol, numcol in pairs:\n",
    "    plt.figure(figsize = (12, 6))\n",
    "    sns.violinplot(x=df[cat_col], y = df[num_col])\n",
    "    plt.title('Violin Plot of ' + num_col + ' by ' + cat_col)\n",
    "    plt.xlabel(cat_col)\n",
    "    plt.ylabel(num_col)\n",
    "    plt.savefig('violine_' + cat_col + '_' + num_col + '.png')\n",
    "    plt.close()\n"
   ]
  },
  {
   "cell_type": "code",
   "execution_count": null,
   "metadata": {},
   "outputs": [],
   "source": [
    "# part 2d\n",
    "num_pairs = [(\"popularity\", \"danceability\"), (\"tempo\", \"energy\"), (\"loudness\", \"valence\")]\n",
    "for x_col, y_col in num_pairs:\n",
    "    plt.figure(figsize=(8, 6)) \n",
    "    sns.scatterplot(x=df[x_col], y=df[y_col], alpha=0.6)\n",
    "    plt.title('Scatter Plot of ' + x_col + ' vs ' + y_col)\n",
    "    plt.xlabel(x_col)\n",
    "    plt.ylabel(y_col)\n",
    "    plt.savefig('scatter_' + x_col + '_' + y_col + '.png')\n",
    "    plt.close()\n",
    "\n",
    "    joint_plot = sns.jointplot(data=df, x=x_col, y=y_col, kind='scatter', height=7, alpha=0.5)\n",
    "    joint_plot.savefig('jointplot_' + x_col + '_' + y_col + '.png')\n",
    "    plt.close()"
   ]
  },
  {
   "cell_type": "code",
   "execution_count": null,
   "metadata": {},
   "outputs": [],
   "source": [
    "# part 2e\n",
    "\n",
    "corr_matrix = df[numerical_columns].corr()\n",
    "plt.figure(figsize = (12,8))\n",
    "sns.heatmap(corr_matrix, annot=True, cmap=\"coolwarm\", fmt= \".2f\", linewidths=0.5)\n",
    "plt.title(\"Feature Correlation Matrix\")\n",
    "plt.savefig(\"correlation_matrix.png\") \n",
    "plt.close()"
   ]
  },
  {
   "cell_type": "code",
   "execution_count": null,
   "metadata": {},
   "outputs": [],
   "source": [
    "# part 2f\n",
    "\n",
    "# regression plot: danceability vs popularity\n",
    "plt.figure(figsize=(10, 6))\n",
    "sns.regplot(x=df[\"danceability\"], y=df[\"popularity\"], scatter_kws={\"alpha\": 0.5}, line_kws={\"color\": \"red\"})\n",
    "plt.title(\"Relationship Between Danceability and Popularity\")\n",
    "plt.xlabel(\"Danceability\")\n",
    "plt.ylabel(\"Popularity\")\n",
    "plt.savefig(\"regplot_danceability_popularity.png\") \n",
    "plt.close()\n",
    "\n",
    "# box plot: energy levels of explicit vs non-explicit songs\n",
    "plt.figure(figsize=(8, 6))\n",
    "sns.boxplot(x=df[\"is_explicit\"], y=df[\"energy\"], palette=\"coolwarm\")\n",
    "plt.title(\"Energy Levels of Explicit vs. Non-Explicit Songs\")\n",
    "plt.xlabel(\"Explicit (False = 0, True = 1)\")\n",
    "plt.ylabel(\"Energy\")\n",
    "plt.savefig(\"boxplot_explicit_energy.png\")\n",
    "plt.close()"
   ]
  }
 ],
 "metadata": {
  "kernelspec": {
   "display_name": "Python 3",
   "language": "python",
   "name": "python3"
  },
  "language_info": {
   "codemirror_mode": {
    "name": "ipython",
    "version": 3
   },
   "file_extension": ".py",
   "mimetype": "text/x-python",
   "name": "python",
   "nbconvert_exporter": "python",
   "pygments_lexer": "ipython3",
   "version": "3.13.2"
  }
 },
 "nbformat": 4,
 "nbformat_minor": 2
}
