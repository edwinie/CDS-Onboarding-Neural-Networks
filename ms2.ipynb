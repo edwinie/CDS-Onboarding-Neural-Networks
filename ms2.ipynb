{
 "cells": [
  {
   "cell_type": "code",
   "execution_count": 4,
   "metadata": {},
   "outputs": [],
   "source": [
    "# part 1a\n",
    "import pandas as pd\n",
    "def removenanrows(dataset):\n",
    "    dataset.dropna(inplace=True)"
   ]
  },
  {
   "cell_type": "code",
   "execution_count": 5,
   "metadata": {},
   "outputs": [],
   "source": [
    "# part 1b\n",
    "import numpy as np\n",
    "def addSummaryStatistic(dataset):\n",
    "    mean = dataset.mean()\n",
    "    dataset.fillna(mean, inplace = true)"
   ]
  },
  {
   "cell_type": "code",
   "execution_count": 6,
   "metadata": {},
   "outputs": [],
   "source": [
    "# part 1c\n",
    "def one_hot_encode(data, labels):\n",
    "    one_hot = pd.DataFrame(index=data.index)\n",
    "    for label in labels:\n",
    "        one_hot[label] = (data == label).astype(int)\n",
    "    return one_hot"
   ]
  },
  {
   "cell_type": "code",
   "execution_count": 7,
   "metadata": {},
   "outputs": [],
   "source": [
    "def testremovenanrows():\n",
    "    df1 = pd.DataFrame({\n",
    "        'A': [1,2,3], \n",
    "        'B': [4,5,6]})\n",
    "    cleaneddf1 = removenanrows(df1)\n",
    "    assertEquals(cleaneddr1, dr1)\n",
    "\n",
    "    df2 = pd.DataFrame({\n",
    "        'A': [1, np.nan, 3], \n",
    "        'B': [4,5,np.nan]})\n",
    "    cleaneddf2 = removenanrows(df2)\n",
    "    assertEquals(({'A': [1, 3], 'B': [4,5]}), cleaneddf2)\n",
    "\n",
    "    df3 = pd.DataFrame({\n",
    "        'A': [np.nan, np.nan, np.nan], \n",
    "        'B': [np.nan, np.nan, np.nan]})\n",
    "    cleaneddf3 = removenanrows(df3)\n",
    "    assertEquals(({'A': [], 'B': []}), cleaneddf3)\n",
    "\n",
    "    df4 = pd.DataFrame({\n",
    "    'A': [1, 2, np.nan],\n",
    "    'B': ['foo', np.nan, 'bar'],\n",
    "    'C': [np.nan, 3.14, 2.71]})\n",
    "    cleaneddf4 = removenanrows(df4)\n",
    "    assertEquals(({\n",
    "    'A': [1, 2],\n",
    "    'B': ['foo', 'bar'],\n",
    "    'C': [3.14, 2.71]}), cleaneddf4)\n",
    "\n",
    "    return (\"testremovenanrows passed\")"
   ]
  },
  {
   "cell_type": "code",
   "execution_count": 8,
   "metadata": {},
   "outputs": [
    {
     "name": "stdout",
     "output_type": "stream",
     "text": [
      "df correctly set\n"
     ]
    }
   ],
   "source": [
    "# trying to address the issue of the file not existing\n",
    "import os\n",
    "if os.path.exists('./Top_spotify_songs.csv'):\n",
    "    df = pd.read_csv('./Top_spotify_songs.csv')\n",
    "    print(\"df correctly set\")\n",
    "else:\n",
    "    print(\"Error: File not found. Make sure 'Top_spotify_songs.csv' is in the correct directory.\")"
   ]
  },
  {
   "cell_type": "code",
   "execution_count": 9,
   "metadata": {},
   "outputs": [
    {
     "name": "stdout",
     "output_type": "stream",
     "text": [
      "Numerical Column Summary Statistics:\n",
      "                      count           mean           std           min  \\\n",
      "daily_rank        1703961.0      25.486485     14.428554      1.000000   \n",
      "daily_movement    1703961.0       0.926143      7.002977    -49.000000   \n",
      "weekly_movement   1703961.0       2.790329     12.143488    -49.000000   \n",
      "popularity        1703961.0      75.924190     15.733622      0.000000   \n",
      "duration_ms       1703961.0  193310.507617  49719.844685  16320.000000   \n",
      "danceability      1703961.0       0.679898      0.140837      0.000000   \n",
      "energy            1703961.0       0.649585      0.166476      0.000020   \n",
      "key               1703961.0       5.541112      3.578128      0.000000   \n",
      "loudness          1703961.0      -6.616949      3.328266    -54.341000   \n",
      "mode              1703961.0       0.536457      0.498669      0.000000   \n",
      "speechiness       1703961.0       0.095186      0.091070      0.000000   \n",
      "acousticness      1703961.0       0.274494      0.250669      0.000003   \n",
      "instrumentalness  1703961.0       0.020339      0.104158      0.000000   \n",
      "liveness          1703961.0       0.170785      0.124837      0.013900   \n",
      "valence           1703961.0       0.549927      0.229158      0.000000   \n",
      "tempo             1703961.0     122.194051     28.058412      0.000000   \n",
      "time_signature    1703961.0       3.902195      0.403173      0.000000   \n",
      "\n",
      "                          25%            50%            75%         max  \\\n",
      "daily_rank            13.0000      25.000000      38.000000      50.000   \n",
      "daily_movement        -1.0000       0.000000       2.000000      49.000   \n",
      "weekly_movement       -3.0000       0.000000       5.000000      49.000   \n",
      "popularity            65.0000      79.000000      88.000000     100.000   \n",
      "duration_ms       161546.0000  185866.000000  218400.000000  939666.000   \n",
      "danceability           0.5870       0.701000       0.783000       0.988   \n",
      "energy                 0.5510       0.669000       0.765000       0.998   \n",
      "key                    2.0000       6.000000       9.000000      11.000   \n",
      "loudness              -7.8050      -6.018000      -4.709000       3.233   \n",
      "mode                   0.0000       1.000000       1.000000       1.000   \n",
      "speechiness            0.0388       0.057900       0.111000       0.939   \n",
      "acousticness           0.0676       0.189000       0.437000       0.996   \n",
      "instrumentalness       0.0000       0.000001       0.000085       0.995   \n",
      "liveness               0.0961       0.121000       0.205000       0.978   \n",
      "valence                0.3710       0.552000       0.735000       0.992   \n",
      "tempo                100.0160     119.962000     140.082000     236.089   \n",
      "time_signature         4.0000       4.000000       4.000000       5.000   \n",
      "\n",
      "                         median  \n",
      "daily_rank            25.000000  \n",
      "daily_movement         0.000000  \n",
      "weekly_movement        0.000000  \n",
      "popularity            79.000000  \n",
      "duration_ms       185866.000000  \n",
      "danceability           0.701000  \n",
      "energy                 0.669000  \n",
      "key                    6.000000  \n",
      "loudness              -6.018000  \n",
      "mode                   1.000000  \n",
      "speechiness            0.057900  \n",
      "acousticness           0.189000  \n",
      "instrumentalness       0.000001  \n",
      "liveness               0.121000  \n",
      "valence                0.552000  \n",
      "tempo                119.962000  \n",
      "time_signature         4.000000  \n",
      "Categorical Column Summary Statistics:\n",
      "\n",
      "Column: spotify_id\n",
      "Unique Values: 20554\n",
      "Value Counts: [('6dOtVTDdiauQNBQEDOtlAB', 12320), ('2plbrEY59IikOBgBGLjaoe', 10748), ('17phhZDn6oGtzMe56NuWvj', 10070), ('3xkHsmpQCBMytMJNiDf3Ii', 8286), ('3rUGC1vUpkDG9CZFHMur1t', 8261)]\n",
      "\n",
      "Column: name\n",
      "Unique Values: 18120\n",
      "Value Counts: [('BIRDS OF A FEATHER', 12320), ('Espresso', 11439), ('Beautiful Things', 11028), ('Die With A Smile', 10748), ('Lose Control', 10070)]\n",
      "\n",
      "Column: artists\n",
      "Unique Values: 11639\n",
      "Value Counts: [('Billie Eilish', 25517), ('Sabrina Carpenter', 24934), ('Bad Bunny', 18091), ('KAROL G', 17784), ('Taylor Swift', 17628)]\n",
      "\n",
      "Column: country\n",
      "Unique Values: 72\n",
      "Value Counts: [('DO', 23875), ('IT', 23870), ('NI', 23869), ('PL', 23864), ('TH', 23861)]\n",
      "\n",
      "Column: snapshot_date\n",
      "Unique Values: 477\n",
      "Value Counts: [('2024-03-16', 3888), ('2023-11-20', 3811), ('2024-03-18', 3781), ('2024-03-14', 3717), ('2023-10-27', 3714)]\n",
      "\n",
      "Column: is_explicit\n",
      "Unique Values: 2\n",
      "Value Counts: [(False, 1146521), (True, 557440)]\n",
      "\n",
      "Column: album_name\n",
      "Unique Values: 13708\n",
      "Value Counts: [('HIT ME HARD AND SOFT', 23872), ('nadie sabe lo que va a pasar mañana', 17745), ('DeBÍ TiRAR MáS FOToS', 13269), ('FERXXOCALIPSIS', 12880), ('MAÑANA SERÁ BONITO (BICHOTA SEASON)', 12126)]\n",
      "\n",
      "Column: album_release_date\n",
      "Unique Values: 2620\n",
      "Value Counts: [('2024-05-17', 27670), ('2023-09-15', 25584), ('2023-10-13', 24787), ('2023-08-25', 24102), ('2023-12-01', 24082)]\n"
     ]
    }
   ],
   "source": [
    "# part 1d \n",
    "df = pd.read_csv('./Top_spotify_songs.csv', low_memory=False) \n",
    "removenanrows(df)\n",
    "#addSummaryStatistic(df)\n",
    "\n",
    "numerical_columns = [\"daily_rank\", \"daily_movement\", \"weekly_movement\", \"popularity\", \"duration_ms\",\n",
    "    \"danceability\", \"energy\", \"key\", \"loudness\", \"mode\", \"speechiness\",\n",
    "    \"acousticness\", \"instrumentalness\", \"liveness\", \"valence\", \"tempo\", \"time_signature\"]\n",
    "categorical_columns = [\"spotify_id\", \"name\", \"artists\", \"country\", \"snapshot_date\",\n",
    "    \"is_explicit\", \"album_name\", \"album_release_date\"]\n",
    "\n",
    "numerical_stats = df[numerical_columns].describe().transpose()\n",
    "numerical_stats[\"median\"] = df[numerical_columns].median()\n",
    "\n",
    "print(\"Numerical Column Summary Statistics:\")\n",
    "print(numerical_stats)\n",
    "\n",
    "categorical_stats = {}\n",
    "for col in categorical_columns:\n",
    "    categorical_stats[col] = {\n",
    "        \"unique_values\": df[col].nunique(), \n",
    "        \"value_counts\": df[col].value_counts().to_dict()}\n",
    "\n",
    "print(\"Categorical Column Summary Statistics:\")\n",
    "for col, stats in categorical_stats.items():\n",
    "    print(f\"\\nColumn: {col}\")\n",
    "    print(f\"Unique Values: {stats['unique_values']}\")\n",
    "    print(f\"Value Counts: {list(stats['value_counts'].items())[:5]}\")\n"
   ]
  },
  {
   "cell_type": "code",
   "execution_count": 10,
   "metadata": {},
   "outputs": [],
   "source": [
    "# part 2a\n",
    "import matplotlib.pyplot as plt\n",
    "for col in numerical_columns:\n",
    "    df[col].plot(kind='hist', bins = 30, alpha = 0.7) # plot histogram\n",
    "    plt.title('Histogram of Numerical Columns')\n",
    "    plt.xlabel(numerical_columns)\n",
    "    plt.ylabel('Frequency')\n",
    "    plt.savefig('Histrogram_of_Numerical_Columns.png')\n",
    "    plt.close()"
   ]
  },
  {
   "cell_type": "code",
   "execution_count": null,
   "metadata": {},
   "outputs": [
    {
     "ename": "NameError",
     "evalue": "name 'categorial_columns' is not defined",
     "output_type": "error",
     "traceback": [
      "\u001b[31m---------------------------------------------------------------------------\u001b[39m",
      "\u001b[31mNameError\u001b[39m                                 Traceback (most recent call last)",
      "\u001b[36mCell\u001b[39m\u001b[36m \u001b[39m\u001b[32mIn[11]\u001b[39m\u001b[32m, line 2\u001b[39m\n\u001b[32m      1\u001b[39m \u001b[38;5;66;03m# part 2b\u001b[39;00m\n\u001b[32m----> \u001b[39m\u001b[32m2\u001b[39m \u001b[38;5;28;01mfor\u001b[39;00m col \u001b[38;5;129;01min\u001b[39;00m \u001b[43mcategorial_columns\u001b[49m:\n\u001b[32m      3\u001b[39m     plt.figure(figsize = (\u001b[32m10\u001b[39m,\u001b[32m6\u001b[39m))\n\u001b[32m      4\u001b[39m     value_counts = df[col].value_counts().nlargest(\u001b[32m10\u001b[39m) \u001b[38;5;66;03m# get top 10 most frequent categories\u001b[39;00m\n",
      "\u001b[31mNameError\u001b[39m: name 'categorial_columns' is not defined"
     ]
    }
   ],
   "source": [
    "# part 2b\n",
    "for col in categorical_columns:\n",
    "    plt.figure(figsize = (10,6))\n",
    "    value_counts = df[col].value_counts().nlargest(10) # get top 10 most frequent categories\n",
    "    value_counts.plot(kind = 'bar')\n",
    "    plt.title('Distribution of Categorical Columns')\n",
    "    plt.xlabel('col')\n",
    "    plt.ylabel('Count')\n",
    "    plt.savefig('categorical_columns_bar_chart.png')\n",
    "    plt.show()\n",
    "    plt.close()"
   ]
  },
  {
   "cell_type": "code",
   "execution_count": null,
   "metadata": {},
   "outputs": [],
   "source": [
    "# part 2c\n",
    "import seaborn as sns\n",
    "pairs = [(\"country\", \"popularity\"), (\"is_explicit\", \"danceability\"), (\"album_name\", \"tempo\")]\n",
    "for catcol, numcol in pairs:\n",
    "    plt.figure(figsize = (12, 6))\n",
    "    sns.violinplot(x=df[cat_col], y = df[num_col])\n",
    "    plt.title('Violin Plot of ' + num_col + ' by ' + cat_col)\n",
    "    plt.xlabel(cat_col)\n",
    "    plt.ylabel(num_col)\n",
    "    plt.savefig('violine_' + cat_col + '_' + num_col + '.png')\n",
    "    plt.close()\n"
   ]
  },
  {
   "cell_type": "code",
   "execution_count": null,
   "metadata": {},
   "outputs": [],
   "source": [
    "# part 2d\n",
    "num_pairs = [(\"popularity\", \"danceability\"), (\"tempo\", \"energy\"), (\"loudness\", \"valence\")]\n",
    "for x_col, y_col in num_pairs:\n",
    "    plt.figure(figsize=(8, 6)) \n",
    "    sns.scatterplot(x=df[x_col], y=df[y_col], alpha=0.6)\n",
    "    plt.title('Scatter Plot of ' + x_col + ' vs ' + y_col)\n",
    "    plt.xlabel(x_col)\n",
    "    plt.ylabel(y_col)\n",
    "    plt.savefig('scatter_' + x_col + '_' + y_col + '.png')\n",
    "    plt.close()\n",
    "\n",
    "    joint_plot = sns.jointplot(data=df, x=x_col, y=y_col, kind='scatter', height=7, alpha=0.5)\n",
    "    joint_plot.savefig('jointplot_' + x_col + '_' + y_col + '.png')\n",
    "    plt.close()"
   ]
  },
  {
   "cell_type": "code",
   "execution_count": null,
   "metadata": {},
   "outputs": [],
   "source": [
    "# part 2e\n",
    "\n",
    "corr_matrix = df[numerical_columns].corr()\n",
    "plt.figure(figsize = (12,8))\n",
    "sns.heatmap(corr_matrix, annot=True, cmap=\"coolwarm\", fmt= \".2f\", linewidths=0.5)\n",
    "plt.title(\"Feature Correlation Matrix\")\n",
    "plt.savefig(\"correlation_matrix.png\") \n",
    "plt.close()"
   ]
  },
  {
   "cell_type": "code",
   "execution_count": null,
   "metadata": {},
   "outputs": [],
   "source": [
    "# part 2f\n",
    "\n",
    "# regression plot: danceability vs popularity\n",
    "plt.figure(figsize=(10, 6))\n",
    "sns.regplot(x=df[\"danceability\"], y=df[\"popularity\"], scatter_kws={\"alpha\": 0.5}, line_kws={\"color\": \"red\"})\n",
    "plt.title(\"Relationship Between Danceability and Popularity\")\n",
    "plt.xlabel(\"Danceability\")\n",
    "plt.ylabel(\"Popularity\")\n",
    "plt.savefig(\"regplot_danceability_popularity.png\") \n",
    "plt.close()\n",
    "\n",
    "# box plot: energy levels of explicit vs non-explicit songs\n",
    "plt.figure(figsize=(8, 6))\n",
    "sns.boxplot(x=df[\"is_explicit\"], y=df[\"energy\"], palette=\"coolwarm\")\n",
    "plt.title(\"Energy Levels of Explicit vs. Non-Explicit Songs\")\n",
    "plt.xlabel(\"Explicit (False = 0, True = 1)\")\n",
    "plt.ylabel(\"Energy\")\n",
    "plt.savefig(\"boxplot_explicit_energy.png\")\n",
    "plt.close()"
   ]
  }
 ],
 "metadata": {
  "kernelspec": {
   "display_name": "Python 3",
   "language": "python",
   "name": "python3"
  },
  "language_info": {
   "codemirror_mode": {
    "name": "ipython",
    "version": 3
   },
   "file_extension": ".py",
   "mimetype": "text/x-python",
   "name": "python",
   "nbconvert_exporter": "python",
   "pygments_lexer": "ipython3",
   "version": "3.13.2"
  }
 },
 "nbformat": 4,
 "nbformat_minor": 2
}
