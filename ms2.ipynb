{
 "cells": [
  {
   "cell_type": "code",
   "execution_count": null,
   "metadata": {},
   "outputs": [],
   "source": [
    "import pandas as pd\n",
    "def removenanrows(dataset):\n",
    "    dataset.dropna()"
   ]
  },
  {
   "cell_type": "code",
   "execution_count": null,
   "metadata": {},
   "outputs": [],
   "source": [
    "import numpy as np\n",
    "def addSummaryStatistic(dataset):\n",
    "    mean = dataset.mean()\n",
    "    dataset.fillna(mean, inplace = true)"
   ]
  },
  {
   "cell_type": "code",
   "execution_count": null,
   "metadata": {},
   "outputs": [],
   "source": [
    "def one_hot_encode(data, labels):\n",
    "    one_hot = pd.DataFrame(index=data.index)\n",
    "    for label in labels:\n",
    "        one_hot[label] = (data == label).astype(int)\n",
    "    return one_hot"
   ]
  },
  {
   "cell_type": "code",
   "execution_count": null,
   "metadata": {},
   "outputs": [],
   "source": [
    "def testremovenanrows():\n",
    "    df1 = pd.DataFrame({\n",
    "        'A': [1,2,3], \n",
    "        'B': [4,5,6]})\n",
    "    cleaneddf1 = removenanrows(df1)\n",
    "    assertEquals(cleaneddr1, dr1)\n",
    "\n",
    "    df2 = pd.DataFrame({\n",
    "        'A': [1, np.nan, 3], \n",
    "        'B': [4,5,np.nan]})\n",
    "    cleaneddf2 = removenanrows(df2)\n",
    "    assertEquals(({'A': [1, 3], 'B': [4,5]}), cleaneddf2)\n",
    "\n",
    "    df3 = pd.DataFrame({\n",
    "        'A': [np.nan, np.nan, np.nan], \n",
    "        'B': [np.nan, np.nan, np.nan]})\n",
    "    cleaneddf3 = removenanrows(df3)\n",
    "    assertEquals(({'A': [], 'B': []}), cleaneddf3)\n",
    "\n",
    "    df4 = pd.DataFrame({\n",
    "    'A': [1, 2, np.nan],\n",
    "    'B': ['foo', np.nan, 'bar'],\n",
    "    'C': [np.nan, 3.14, 2.71]})\n",
    "    cleaneddf4 = removenanrows(df4)\n",
    "    assertEquals(({\n",
    "    'A': [1, 2],\n",
    "    'B': ['foo', 'bar'],\n",
    "    'C': [3.14, 2.71]}), cleaneddf4)\n",
    "\n",
    "    return (\"testremovenanrows passed\")"
   ]
  },
  {
   "cell_type": "code",
   "execution_count": null,
   "metadata": {},
   "outputs": [],
   "source": [
    "# part 1d \n",
    "df = pd.read_csv('./Top_spotify_songs.csv') \n",
    "addSummaryStatistic(df)\n",
    "\n",
    "numerical_columns = [\"daily_rank\", \"daily_movement\", \"weekly_movement\", \"popularity\", \"duration\",\n",
    "    \"danceability\", \"energy\", \"key\", \"loudness\", \"mode\", \"speechiness\",\n",
    "    \"acousticness\", \"instrumentalness\", \"liveness\", \"valence\", \"tempo\", \"time_signature\"]\n",
    "\n",
    "numerical_stats = df[numerical_columns].describe()\n",
    "numerical_stats[\"median\"] = df[numerical_columns].median()\n",
    "\n",
    "\n",
    "categorical_columns = [\"spotify_id\", \"name\", \"artists\", \"country\", \"snapshot_date\",\n",
    "    \"is_explicit\", \"album_name\", \"album_release_date\"]\n",
    "for col in categorical_columns:\n",
    "    unique_values = df[col].nunique()\n",
    "    value_counts = df[col.value_counts().to_dict()]\n"
   ]
  },
  {
   "cell_type": "code",
   "execution_count": null,
   "metadata": {},
   "outputs": [],
   "source": [
    "# part 2a\n",
    "import matplotlib.pyplot as plt\n",
    "for col in numerical_columns:\n",
    "    ds[col].plot(kind='hist', bins = 30, alpha = 0.7) # plot histogram\n",
    "    plt.title('Histogram of Numerical Columns')\n",
    "    plt.xlabel(Numerical Column Names)\n",
    "    ply.ylabel('Frequency')\n",
    "    plt.savefig(Histrogram_of_Numerical_Columns.png)\n",
    "    plt.close()"
   ]
  }
 ],
 "metadata": {
  "kernelspec": {
   "display_name": "Python 3",
   "language": "python",
   "name": "python3"
  },
  "language_info": {
   "codemirror_mode": {
    "name": "ipython",
    "version": 3
   },
   "file_extension": ".py",
   "mimetype": "text/x-python",
   "name": "python",
   "nbconvert_exporter": "python",
   "pygments_lexer": "ipython3",
   "version": "3.13.2"
  }
 },
 "nbformat": 4,
 "nbformat_minor": 2
}
